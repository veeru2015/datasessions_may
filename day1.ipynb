{
 "cells": [
  {
   "cell_type": "code",
   "execution_count": null,
   "metadata": {},
   "outputs": [],
   "source": [
    "- Create a new folder\n",
    "- Rename folder to datasessions\n",
    "- Go to folder datasessions\n",
    "- _File_ -> _New Terminal_\n",
    "\n",
    "Terminal Commands\n",
    "\n",
    "```sh\n",
    "git status\n",
    "git init\n",
    "git status\n",
    "\n",
    "```\n",
    "\n",
    "- _File_ -> _New Notebook_\n",
    "- Rename _\n",
    "\n"
   ]
  }
 ],
 "metadata": {
  "kernelspec": {
   "display_name": "Python 3",
   "language": "python",
   "name": "python3"
  },
  "language_info": {
   "codemirror_mode": {
    "name": "ipython",
    "version": 3
   },
   "file_extension": ".py",
   "mimetype": "text/x-python",
   "name": "python",
   "nbconvert_exporter": "python",
   "pygments_lexer": "ipython3",
   "version": "3.7.2"
  }
 },
 "nbformat": 4,
 "nbformat_minor": 2
}
