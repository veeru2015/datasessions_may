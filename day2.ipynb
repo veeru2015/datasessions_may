{
 "cells": [
  {
   "cell_type": "code",
   "execution_count": 1,
   "metadata": {},
   "outputs": [],
   "source": [
    "import numpy as np"
   ]
  },
  {
   "cell_type": "code",
   "execution_count": 2,
   "metadata": {},
   "outputs": [
    {
     "data": {
      "text/plain": [
       "'1.15.1'"
      ]
     },
     "execution_count": 2,
     "metadata": {},
     "output_type": "execute_result"
    }
   ],
   "source": [
    "np.__version__"
   ]
  },
  {
   "cell_type": "code",
   "execution_count": 3,
   "metadata": {},
   "outputs": [
    {
     "name": "stdout",
     "output_type": "stream",
     "text": [
      "Help on function savetxt in module numpy.lib.npyio:\n",
      "\n",
      "savetxt(fname, X, fmt='%.18e', delimiter=' ', newline='\\n', header='', footer='', comments='# ', encoding=None)\n",
      "    Save an array to a text file.\n",
      "    \n",
      "    Parameters\n",
      "    ----------\n",
      "    fname : filename or file handle\n",
      "        If the filename ends in ``.gz``, the file is automatically saved in\n",
      "        compressed gzip format.  `loadtxt` understands gzipped files\n",
      "        transparently.\n",
      "    X : 1D or 2D array_like\n",
      "        Data to be saved to a text file.\n",
      "    fmt : str or sequence of strs, optional\n",
      "        A single format (%10.5f), a sequence of formats, or a\n",
      "        multi-format string, e.g. 'Iteration %d -- %10.5f', in which\n",
      "        case `delimiter` is ignored. For complex `X`, the legal options\n",
      "        for `fmt` are:\n",
      "    \n",
      "        * a single specifier, `fmt='%.4e'`, resulting in numbers formatted\n",
      "          like `' (%s+%sj)' % (fmt, fmt)`\n",
      "        * a full string specifying every real and imaginary part, e.g.\n",
      "          `' %.4e %+.4ej %.4e %+.4ej %.4e %+.4ej'` for 3 columns\n",
      "        * a list of specifiers, one per column - in this case, the real\n",
      "          and imaginary part must have separate specifiers,\n",
      "          e.g. `['%.3e + %.3ej', '(%.15e%+.15ej)']` for 2 columns\n",
      "    delimiter : str, optional\n",
      "        String or character separating columns.\n",
      "    newline : str, optional\n",
      "        String or character separating lines.\n",
      "    \n",
      "        .. versionadded:: 1.5.0\n",
      "    header : str, optional\n",
      "        String that will be written at the beginning of the file.\n",
      "    \n",
      "        .. versionadded:: 1.7.0\n",
      "    footer : str, optional\n",
      "        String that will be written at the end of the file.\n",
      "    \n",
      "        .. versionadded:: 1.7.0\n",
      "    comments : str, optional\n",
      "        String that will be prepended to the ``header`` and ``footer`` strings,\n",
      "        to mark them as comments. Default: '# ',  as expected by e.g.\n",
      "        ``numpy.loadtxt``.\n",
      "    \n",
      "        .. versionadded:: 1.7.0\n",
      "    encoding : {None, str}, optional\n",
      "        Encoding used to encode the outputfile. Does not apply to output\n",
      "        streams. If the encoding is something other than 'bytes' or 'latin1'\n",
      "        you will not be able to load the file in NumPy versions < 1.14. Default\n",
      "        is 'latin1'.\n",
      "    \n",
      "        .. versionadded:: 1.14.0\n",
      "    \n",
      "    \n",
      "    See Also\n",
      "    --------\n",
      "    save : Save an array to a binary file in NumPy ``.npy`` format\n",
      "    savez : Save several arrays into an uncompressed ``.npz`` archive\n",
      "    savez_compressed : Save several arrays into a compressed ``.npz`` archive\n",
      "    \n",
      "    Notes\n",
      "    -----\n",
      "    Further explanation of the `fmt` parameter\n",
      "    (``%[flag]width[.precision]specifier``):\n",
      "    \n",
      "    flags:\n",
      "        ``-`` : left justify\n",
      "    \n",
      "        ``+`` : Forces to precede result with + or -.\n",
      "    \n",
      "        ``0`` : Left pad the number with zeros instead of space (see width).\n",
      "    \n",
      "    width:\n",
      "        Minimum number of characters to be printed. The value is not truncated\n",
      "        if it has more characters.\n",
      "    \n",
      "    precision:\n",
      "        - For integer specifiers (eg. ``d,i,o,x``), the minimum number of\n",
      "          digits.\n",
      "        - For ``e, E`` and ``f`` specifiers, the number of digits to print\n",
      "          after the decimal point.\n",
      "        - For ``g`` and ``G``, the maximum number of significant digits.\n",
      "        - For ``s``, the maximum number of characters.\n",
      "    \n",
      "    specifiers:\n",
      "        ``c`` : character\n",
      "    \n",
      "        ``d`` or ``i`` : signed decimal integer\n",
      "    \n",
      "        ``e`` or ``E`` : scientific notation with ``e`` or ``E``.\n",
      "    \n",
      "        ``f`` : decimal floating point\n",
      "    \n",
      "        ``g,G`` : use the shorter of ``e,E`` or ``f``\n",
      "    \n",
      "        ``o`` : signed octal\n",
      "    \n",
      "        ``s`` : string of characters\n",
      "    \n",
      "        ``u`` : unsigned decimal integer\n",
      "    \n",
      "        ``x,X`` : unsigned hexadecimal integer\n",
      "    \n",
      "    This explanation of ``fmt`` is not complete, for an exhaustive\n",
      "    specification see [1]_.\n",
      "    \n",
      "    References\n",
      "    ----------\n",
      "    .. [1] `Format Specification Mini-Language\n",
      "           <http://docs.python.org/library/string.html#\n",
      "           format-specification-mini-language>`_, Python Documentation.\n",
      "    \n",
      "    Examples\n",
      "    --------\n",
      "    >>> x = y = z = np.arange(0.0,5.0,1.0)\n",
      "    >>> np.savetxt('test.out', x, delimiter=',')   # X is an array\n",
      "    >>> np.savetxt('test.out', (x,y,z))   # x,y,z equal sized 1D arrays\n",
      "    >>> np.savetxt('test.out', x, fmt='%1.4e')   # use exponential notation\n",
      "\n"
     ]
    }
   ],
   "source": [
    "help(np.savetxt)"
   ]
  },
  {
   "cell_type": "code",
   "execution_count": 29,
   "metadata": {},
   "outputs": [],
   "source": [
    "dataset = np.random.randint(1, 100, 10000)"
   ]
  },
  {
   "cell_type": "code",
   "execution_count": 30,
   "metadata": {},
   "outputs": [],
   "source": [
    "np.savetxt(\"sample1.txt\", dataset, fmt=\"%d\")"
   ]
  },
  {
   "cell_type": "code",
   "execution_count": 31,
   "metadata": {},
   "outputs": [],
   "source": [
    "dataset = np.fromfile(\"sample1.txt\", sep=\"\\n\", dtype=np.int64)"
   ]
  },
  {
   "cell_type": "code",
   "execution_count": 32,
   "metadata": {},
   "outputs": [
    {
     "data": {
      "text/plain": [
       "array([88, 23, 74, ..., 13, 52, 68])"
      ]
     },
     "execution_count": 32,
     "metadata": {},
     "output_type": "execute_result"
    }
   ],
   "source": [
    "dataset"
   ]
  },
  {
   "cell_type": "code",
   "execution_count": 33,
   "metadata": {},
   "outputs": [
    {
     "data": {
      "text/plain": [
       "88"
      ]
     },
     "execution_count": 33,
     "metadata": {},
     "output_type": "execute_result"
    }
   ],
   "source": [
    "dataset[0]"
   ]
  },
  {
   "cell_type": "code",
   "execution_count": 34,
   "metadata": {},
   "outputs": [
    {
     "data": {
      "text/plain": [
       "array([88, 23, 74, 98,  3, 71, 38, 75,  5, 43, 21,  9, 61, 96, 18, 99, 87,\n",
       "       39, 25, 49, 40, 11, 29, 68, 31, 18, 72, 95, 15, 72, 98, 72, 19, 56,\n",
       "       96, 66, 47, 42, 73, 69, 50,  3, 16, 40, 41, 28, 11, 26, 75, 47, 19,\n",
       "       29, 49, 19, 97, 43, 47,  8, 92, 85, 47, 64, 87, 91, 86, 47, 11, 74,\n",
       "       88, 98, 47, 58,  7, 82,  5, 52, 94, 33, 69, 99, 53, 34, 63, 57, 51,\n",
       "       14, 93, 48, 92, 89, 50, 50, 31, 81,  1, 83, 97, 67, 36, 88])"
      ]
     },
     "execution_count": 34,
     "metadata": {},
     "output_type": "execute_result"
    }
   ],
   "source": [
    "dataset[0:100]"
   ]
  },
  {
   "cell_type": "code",
   "execution_count": 35,
   "metadata": {},
   "outputs": [
    {
     "data": {
      "text/plain": [
       "array([63,  3, 35, 38, 63, 84, 43, 68, 64,  4, 31, 31, 35, 89,  6, 79, 42,\n",
       "       94,  9,  2, 65, 54, 37, 71, 48, 85, 74, 24, 72, 34,  6, 93, 67, 51,\n",
       "       73, 28, 22, 96, 39, 19, 20, 78, 60, 83, 50, 62, 32, 64, 48, 24, 66,\n",
       "       97, 40, 58, 37, 44, 35, 48, 98, 52, 62, 33, 53, 14, 95, 27, 89, 35,\n",
       "       16, 68, 28, 50, 91, 72, 22, 61, 18, 92, 23,  3, 58, 79, 23, 50, 81,\n",
       "       68,  9,  4, 53, 97, 88, 20,  1, 83, 48,  5,  7, 13, 52, 68])"
      ]
     },
     "execution_count": 35,
     "metadata": {},
     "output_type": "execute_result"
    }
   ],
   "source": [
    "dataset[-100:]"
   ]
  },
  {
   "cell_type": "code",
   "execution_count": 36,
   "metadata": {},
   "outputs": [
    {
     "data": {
      "text/plain": [
       "array([63,  3, 35, 38, 63, 84, 43, 68, 64,  4, 31, 31, 35, 89,  6, 79, 42,\n",
       "       94,  9,  2, 65, 54, 37, 71, 48, 85, 74, 24, 72, 34,  6, 93, 67, 51,\n",
       "       73, 28, 22, 96, 39, 19, 20, 78, 60, 83, 50, 62, 32, 64, 48, 24, 66,\n",
       "       97, 40, 58, 37, 44, 35, 48, 98, 52, 62, 33, 53, 14, 95, 27, 89, 35,\n",
       "       16, 68, 28, 50, 91, 72, 22, 61, 18, 92, 23,  3, 58, 79, 23, 50, 81,\n",
       "       68,  9,  4, 53, 97, 88, 20,  1, 83, 48,  5,  7, 13, 52, 68])"
      ]
     },
     "execution_count": 36,
     "metadata": {},
     "output_type": "execute_result"
    }
   ],
   "source": [
    "dataset[dataset.size -100 :]"
   ]
  },
  {
   "cell_type": "code",
   "execution_count": 37,
   "metadata": {},
   "outputs": [
    {
     "data": {
      "text/plain": [
       "array([False, False, False, ..., False, False, False])"
      ]
     },
     "execution_count": 37,
     "metadata": {},
     "output_type": "execute_result"
    }
   ],
   "source": [
    "dataset < 10"
   ]
  },
  {
   "cell_type": "code",
   "execution_count": 38,
   "metadata": {},
   "outputs": [
    {
     "data": {
      "text/plain": [
       "array([3, 5, 9, 3, 8, 7, 5, 1, 8, 7, 6, 8, 3, 2, 6, 6, 9, 4, 9, 8, 3, 7,\n",
       "       2, 3, 6, 7, 7, 3, 1, 7, 6, 2, 7, 7, 7, 4, 4, 3, 4, 8, 8, 1, 1, 9,\n",
       "       1, 1, 1, 6, 4, 6, 1, 1, 1, 9, 9, 6, 7, 2, 3, 4, 4, 5, 1, 8, 7, 6,\n",
       "       7, 9, 7, 2, 3, 3, 7, 2, 9, 9, 2, 6, 9, 5, 9, 5, 3, 3, 9, 7, 9, 2,\n",
       "       2, 9, 8, 5, 2, 3, 9, 1, 8, 5, 4, 4, 9, 1, 5, 2, 9, 9, 1, 9, 9, 2,\n",
       "       4, 4, 3, 2, 4, 4, 6, 5, 5, 1, 6, 8, 6, 8, 9, 2, 2, 6, 7, 2, 7, 4,\n",
       "       2, 8, 5, 6, 5, 4, 4, 9, 2, 7, 2, 4, 1, 8, 2, 6, 2, 3, 1, 9, 5, 3,\n",
       "       6, 3, 9, 5, 4, 6, 8, 3, 8, 4, 9, 8, 7, 4, 6, 6, 9, 9, 1, 6, 6, 7,\n",
       "       3, 5, 6, 4, 4, 3, 3, 3, 3, 4, 9, 7, 4, 2, 1, 7, 8, 1, 3, 5, 7, 5,\n",
       "       4, 3, 1, 1, 8, 4, 9, 1, 9, 5, 9, 6, 9, 6, 8, 7, 9, 5, 8, 5, 7, 4,\n",
       "       8, 4, 2, 3, 1, 5, 2, 9, 7, 6, 6, 9, 6, 7, 7, 6, 1, 5, 7, 5, 4, 2,\n",
       "       5, 8, 1, 7, 3, 9, 4, 6, 6, 2, 5, 4, 8, 1, 5, 1, 9, 3, 7, 4, 1, 1,\n",
       "       7, 5, 2, 1, 2, 6, 2, 1, 5, 4, 1, 4, 2, 9, 1, 9, 9, 2, 5, 9, 2, 5,\n",
       "       1, 6, 7, 2, 7, 6, 2, 3, 6, 2, 2, 3, 9, 3, 9, 2, 7, 7, 3, 8, 3, 6,\n",
       "       1, 5, 3, 2, 6, 6, 8, 7, 2, 3, 9, 3, 8, 1, 8, 8, 7, 5, 1, 8, 3, 2,\n",
       "       3, 4, 9, 3, 8, 8, 4, 9, 1, 8, 7, 5, 6, 9, 9, 7, 6, 8, 5, 4, 3, 9,\n",
       "       4, 9, 5, 5, 3, 5, 6, 2, 1, 5, 3, 1, 6, 2, 6, 1, 5, 9, 5, 1, 7, 1,\n",
       "       1, 2, 7, 6, 1, 8, 8, 3, 1, 9, 3, 9, 3, 4, 9, 9, 1, 5, 1, 5, 5, 3,\n",
       "       1, 6, 8, 1, 7, 7, 7, 6, 2, 3, 4, 3, 1, 2, 7, 8, 6, 5, 2, 8, 5, 7,\n",
       "       1, 5, 4, 3, 7, 8, 2, 4, 7, 9, 5, 2, 8, 1, 1, 6, 8, 3, 2, 2, 1, 8,\n",
       "       7, 6, 2, 3, 9, 2, 3, 4, 4, 3, 9, 4, 9, 6, 2, 6, 4, 9, 8, 7, 7, 3,\n",
       "       6, 7, 6, 9, 1, 5, 6, 7, 2, 2, 8, 4, 8, 2, 1, 4, 7, 5, 4, 2, 1, 1,\n",
       "       5, 3, 8, 3, 1, 2, 1, 6, 1, 1, 7, 6, 1, 7, 7, 4, 4, 7, 9, 4, 9, 9,\n",
       "       6, 6, 4, 5, 7, 3, 8, 8, 7, 2, 1, 2, 3, 9, 7, 3, 4, 5, 7, 1, 2, 5,\n",
       "       9, 1, 7, 3, 4, 5, 2, 5, 6, 3, 9, 8, 7, 8, 2, 6, 8, 9, 4, 4, 2, 5,\n",
       "       5, 7, 1, 5, 3, 2, 2, 4, 7, 4, 6, 2, 7, 5, 2, 7, 4, 8, 5, 3, 4, 3,\n",
       "       6, 1, 3, 2, 9, 8, 3, 7, 2, 8, 8, 8, 7, 3, 7, 3, 9, 5, 2, 3, 3, 8,\n",
       "       5, 6, 1, 8, 4, 8, 8, 7, 3, 7, 6, 5, 1, 1, 5, 5, 5, 4, 5, 9, 8, 4,\n",
       "       7, 2, 8, 3, 3, 9, 9, 3, 1, 2, 9, 7, 8, 9, 7, 3, 3, 7, 5, 4, 9, 2,\n",
       "       9, 9, 1, 5, 9, 8, 9, 6, 7, 4, 2, 5, 1, 6, 1, 9, 3, 4, 1, 7, 1, 2,\n",
       "       7, 8, 3, 5, 6, 1, 3, 5, 9, 6, 4, 5, 9, 6, 9, 6, 8, 1, 5, 1, 3, 4,\n",
       "       6, 9, 7, 1, 5, 6, 7, 2, 4, 3, 2, 3, 8, 4, 5, 3, 2, 1, 9, 6, 7, 6,\n",
       "       3, 7, 6, 2, 6, 6, 4, 5, 1, 9, 4, 5, 8, 5, 7, 7, 3, 2, 8, 8, 3, 9,\n",
       "       9, 7, 5, 2, 2, 5, 9, 4, 4, 5, 8, 6, 9, 9, 4, 7, 3, 8, 9, 9, 4, 2,\n",
       "       5, 2, 9, 7, 3, 9, 5, 8, 3, 6, 6, 9, 7, 6, 3, 7, 4, 6, 3, 5, 7, 1,\n",
       "       6, 4, 7, 1, 8, 6, 6, 5, 4, 7, 7, 3, 7, 9, 1, 9, 8, 5, 2, 1, 6, 4,\n",
       "       5, 5, 1, 6, 8, 5, 7, 5, 5, 1, 3, 3, 2, 5, 9, 8, 1, 2, 7, 8, 9, 8,\n",
       "       9, 9, 1, 1, 6, 4, 1, 4, 2, 1, 5, 4, 6, 8, 9, 4, 3, 1, 3, 8, 2, 6,\n",
       "       9, 4, 3, 3, 5, 5, 5, 6, 1, 4, 4, 9, 3, 4, 7, 4, 7, 9, 6, 5, 9, 9,\n",
       "       7, 6, 2, 2, 5, 6, 7, 9, 6, 4, 1, 8, 8, 8, 1, 7, 5, 4, 8, 1, 2, 1,\n",
       "       2, 1, 8, 3, 2, 6, 2, 3, 4, 6, 9, 2, 6, 3, 9, 4, 1, 5, 7])"
      ]
     },
     "execution_count": 38,
     "metadata": {},
     "output_type": "execute_result"
    }
   ],
   "source": [
    "dataset[dataset < 10]"
   ]
  },
  {
   "cell_type": "code",
   "execution_count": 39,
   "metadata": {},
   "outputs": [
    {
     "data": {
      "text/plain": [
       "array([], dtype=int64)"
      ]
     },
     "execution_count": 39,
     "metadata": {},
     "output_type": "execute_result"
    }
   ],
   "source": [
    "dataset[(dataset < 3) & (dataset > 97)]"
   ]
  },
  {
   "cell_type": "code",
   "execution_count": 40,
   "metadata": {},
   "outputs": [
    {
     "data": {
      "text/plain": [
       "array([98, 99, 98, 98, 99,  1, 98,  2, 98,  2,  1,  2, 98,  1,  1, 98,  1,\n",
       "        1, 99, 99,  1, 98,  1,  1,  1, 98,  2,  1, 99, 98, 99,  2,  2, 98,\n",
       "        2, 98, 99, 98, 99, 98,  2,  2, 98,  2,  1, 99,  1,  2, 98,  1,  2,\n",
       "       99,  2, 99, 98,  1, 98, 99,  2,  2, 99, 99,  2, 99,  2,  2,  2,  1,\n",
       "       98,  2,  2,  1, 98, 99, 99, 98, 98,  1, 98, 99, 99, 99,  2,  1,  1,\n",
       "        1,  1,  1, 98, 98,  2,  1,  2, 98, 99, 98,  1, 99,  2, 98,  1, 98,\n",
       "       98, 99, 99,  2, 98,  1,  1,  1,  1, 99,  2,  1,  2,  2,  1,  1,  2,\n",
       "        1, 99, 98,  2,  2,  1,  2, 99, 98,  2,  2,  2,  2, 99, 98, 98,  1,\n",
       "       99,  2, 98,  2, 99, 98, 99, 99,  1, 99, 99,  1,  2, 98,  1, 99, 98,\n",
       "       98,  2,  1,  1, 98,  2,  1, 98, 98,  1,  1,  1,  2, 98, 98,  1,  1,\n",
       "       98, 99, 98,  1, 98, 98,  1, 98,  1,  1,  2, 98,  1,  2, 98, 98,  2,\n",
       "       98,  1, 99, 98,  2,  2,  1, 98,  1, 99, 99,  2,  2,  1, 98,  2, 98,\n",
       "       98,  2, 98,  2, 99,  1, 98, 98,  2,  2, 98, 99, 98, 99,  2,  1,  2,\n",
       "        1,  1, 99, 98, 99,  1,  2,  1,  1,  1, 98,  1, 99, 99, 98, 99, 98,\n",
       "       99, 99, 98, 99,  2,  1, 98,  2,  1,  2,  1, 99,  2, 98,  2, 98, 99,\n",
       "        2,  1, 99, 98,  2,  2, 98, 99,  2, 98,  2, 98, 99, 98, 99,  1,  2,\n",
       "       98, 99, 99,  2, 99,  2,  1, 98,  1, 99,  1, 98,  2, 98,  1, 98, 99,\n",
       "        2, 98,  2,  1, 98, 99,  2, 98,  1, 99, 98,  1,  1, 99,  1, 98,  2,\n",
       "       99, 98,  1, 99, 99, 99, 98,  1,  1, 98, 98, 98, 98,  1,  2, 99,  2,\n",
       "        2,  1, 98,  2,  1, 98, 99, 98,  2,  2,  2, 98, 99, 98, 99, 98,  2,\n",
       "        2, 98, 99, 98,  1, 98,  1, 98, 99, 99, 98, 99, 99,  1,  2,  1, 99,\n",
       "       99,  1, 98, 99,  1,  2, 99,  1, 99,  2, 99, 99,  1,  1,  1,  2,  1,\n",
       "       98,  1, 98,  2, 98,  1, 98, 98, 98, 98,  2,  2,  1, 99, 98,  1,  1,\n",
       "        2,  1,  2,  1,  2, 99,  2,  2, 98,  1])"
      ]
     },
     "execution_count": 40,
     "metadata": {},
     "output_type": "execute_result"
    }
   ],
   "source": [
    "dataset[(dataset < 3) | (dataset > 97)]"
   ]
  },
  {
   "cell_type": "code",
   "execution_count": 42,
   "metadata": {},
   "outputs": [],
   "source": [
    "dset1 = dataset[dataset < 3]"
   ]
  },
  {
   "cell_type": "code",
   "execution_count": 43,
   "metadata": {},
   "outputs": [
    {
     "data": {
      "text/plain": [
       "201"
      ]
     },
     "execution_count": 43,
     "metadata": {},
     "output_type": "execute_result"
    }
   ],
   "source": [
    "dset1.size"
   ]
  },
  {
   "cell_type": "code",
   "execution_count": 44,
   "metadata": {},
   "outputs": [
    {
     "data": {
      "text/plain": [
       "array([1, 2, 2, 1, 2, 1, 1, 1, 1, 1, 1, 1, 1, 2, 1, 2, 2, 2, 2, 2, 2, 1,\n",
       "       1, 2, 1, 2, 2, 1, 2, 2, 2, 2, 2, 2, 1, 2, 2, 1, 1, 2, 1, 1, 1, 1,\n",
       "       1, 2, 1, 2, 1, 2, 1, 2, 1, 1, 1, 1, 2, 1, 2, 2, 1, 1, 2, 1, 2, 2,\n",
       "       1, 2, 2, 2, 2, 2, 1, 2, 2, 1, 1, 2, 1, 2, 1, 1, 2, 1, 1, 1, 1, 2,\n",
       "       1, 1, 1, 1, 1, 1, 2, 1, 2, 2, 1, 2, 2, 1, 1, 2, 2, 1, 2, 2, 2, 1,\n",
       "       2, 2, 2, 1, 2, 1, 1, 1, 2, 1, 1, 1, 1, 2, 1, 2, 1, 2, 1, 2, 2, 2,\n",
       "       1, 2, 2, 2, 2, 1, 2, 2, 2, 1, 1, 1, 2, 1, 2, 2, 1, 2, 1, 1, 1, 1,\n",
       "       2, 1, 1, 1, 1, 2, 2, 2, 1, 2, 1, 2, 2, 2, 2, 2, 1, 1, 1, 2, 1, 1,\n",
       "       1, 2, 1, 2, 1, 1, 1, 2, 1, 1, 2, 1, 2, 2, 1, 1, 1, 2, 1, 2, 1, 2,\n",
       "       2, 2, 1])"
      ]
     },
     "execution_count": 44,
     "metadata": {},
     "output_type": "execute_result"
    }
   ],
   "source": [
    "dset1"
   ]
  },
  {
   "cell_type": "code",
   "execution_count": 46,
   "metadata": {},
   "outputs": [
    {
     "name": "stdout",
     "output_type": "stream",
     "text": [
      "Help on function any in module numpy.core.fromnumeric:\n",
      "\n",
      "any(a, axis=None, out=None, keepdims=<no value>)\n",
      "    Test whether any array element along a given axis evaluates to True.\n",
      "    \n",
      "    Returns single boolean unless `axis` is not ``None``\n",
      "    \n",
      "    Parameters\n",
      "    ----------\n",
      "    a : array_like\n",
      "        Input array or object that can be converted to an array.\n",
      "    axis : None or int or tuple of ints, optional\n",
      "        Axis or axes along which a logical OR reduction is performed.\n",
      "        The default (`axis` = `None`) is to perform a logical OR over all\n",
      "        the dimensions of the input array. `axis` may be negative, in\n",
      "        which case it counts from the last to the first axis.\n",
      "    \n",
      "        .. versionadded:: 1.7.0\n",
      "    \n",
      "        If this is a tuple of ints, a reduction is performed on multiple\n",
      "        axes, instead of a single axis or all the axes as before.\n",
      "    out : ndarray, optional\n",
      "        Alternate output array in which to place the result.  It must have\n",
      "        the same shape as the expected output and its type is preserved\n",
      "        (e.g., if it is of type float, then it will remain so, returning\n",
      "        1.0 for True and 0.0 for False, regardless of the type of `a`).\n",
      "        See `doc.ufuncs` (Section \"Output arguments\") for details.\n",
      "    \n",
      "    keepdims : bool, optional\n",
      "        If this is set to True, the axes which are reduced are left\n",
      "        in the result as dimensions with size one. With this option,\n",
      "        the result will broadcast correctly against the input array.\n",
      "    \n",
      "        If the default value is passed, then `keepdims` will not be\n",
      "        passed through to the `any` method of sub-classes of\n",
      "        `ndarray`, however any non-default value will be.  If the\n",
      "        sub-class' method does not implement `keepdims` any\n",
      "        exceptions will be raised.\n",
      "    \n",
      "    Returns\n",
      "    -------\n",
      "    any : bool or ndarray\n",
      "        A new boolean or `ndarray` is returned unless `out` is specified,\n",
      "        in which case a reference to `out` is returned.\n",
      "    \n",
      "    See Also\n",
      "    --------\n",
      "    ndarray.any : equivalent method\n",
      "    \n",
      "    all : Test whether all elements along a given axis evaluate to True.\n",
      "    \n",
      "    Notes\n",
      "    -----\n",
      "    Not a Number (NaN), positive infinity and negative infinity evaluate\n",
      "    to `True` because these are not equal to zero.\n",
      "    \n",
      "    Examples\n",
      "    --------\n",
      "    >>> np.any([[True, False], [True, True]])\n",
      "    True\n",
      "    \n",
      "    >>> np.any([[True, False], [False, False]], axis=0)\n",
      "    array([ True, False])\n",
      "    \n",
      "    >>> np.any([-1, 0, 5])\n",
      "    True\n",
      "    \n",
      "    >>> np.any(np.nan)\n",
      "    True\n",
      "    \n",
      "    >>> o=np.array([False])\n",
      "    >>> z=np.any([-1, 4, 5], out=o)\n",
      "    >>> z, o\n",
      "    (array([ True]), array([ True]))\n",
      "    >>> # Check now that z is a reference to o\n",
      "    >>> z is o\n",
      "    True\n",
      "    >>> id(z), id(o) # identity of z and o              # doctest: +SKIP\n",
      "    (191614240, 191614240)\n",
      "\n"
     ]
    }
   ],
   "source": [
    "help(np.any)"
   ]
  },
  {
   "cell_type": "code",
   "execution_count": 47,
   "metadata": {},
   "outputs": [
    {
     "data": {
      "text/plain": [
       "True"
      ]
     },
     "execution_count": 47,
     "metadata": {},
     "output_type": "execute_result"
    }
   ],
   "source": [
    "np.any(dset1)"
   ]
  },
  {
   "cell_type": "code",
   "execution_count": 48,
   "metadata": {},
   "outputs": [
    {
     "data": {
      "text/plain": [
       "True"
      ]
     },
     "execution_count": 48,
     "metadata": {},
     "output_type": "execute_result"
    }
   ],
   "source": [
    "np.all(dset1)"
   ]
  },
  {
   "cell_type": "code",
   "execution_count": 49,
   "metadata": {},
   "outputs": [
    {
     "data": {
      "text/plain": [
       "True"
      ]
     },
     "execution_count": 49,
     "metadata": {},
     "output_type": "execute_result"
    }
   ],
   "source": [
    "np.any(dset1 < 2)"
   ]
  },
  {
   "cell_type": "code",
   "execution_count": 50,
   "metadata": {},
   "outputs": [
    {
     "data": {
      "text/plain": [
       "False"
      ]
     },
     "execution_count": 50,
     "metadata": {},
     "output_type": "execute_result"
    }
   ],
   "source": [
    "np.all(dset1 < 2)"
   ]
  },
  {
   "cell_type": "code",
   "execution_count": 51,
   "metadata": {},
   "outputs": [
    {
     "name": "stdout",
     "output_type": "stream",
     "text": [
      "Help on built-in function where in module numpy.core.multiarray:\n",
      "\n",
      "where(...)\n",
      "    where(condition, [x, y])\n",
      "    \n",
      "    Return elements, either from `x` or `y`, depending on `condition`.\n",
      "    \n",
      "    If only `condition` is given, return ``condition.nonzero()``.\n",
      "    \n",
      "    Parameters\n",
      "    ----------\n",
      "    condition : array_like, bool\n",
      "        When True, yield `x`, otherwise yield `y`.\n",
      "    x, y : array_like, optional\n",
      "        Values from which to choose. `x`, `y` and `condition` need to be\n",
      "        broadcastable to some shape.\n",
      "    \n",
      "    Returns\n",
      "    -------\n",
      "    out : ndarray or tuple of ndarrays\n",
      "        If both `x` and `y` are specified, the output array contains\n",
      "        elements of `x` where `condition` is True, and elements from\n",
      "        `y` elsewhere.\n",
      "    \n",
      "        If only `condition` is given, return the tuple\n",
      "        ``condition.nonzero()``, the indices where `condition` is True.\n",
      "    \n",
      "    See Also\n",
      "    --------\n",
      "    nonzero, choose\n",
      "    \n",
      "    Notes\n",
      "    -----\n",
      "    If `x` and `y` are given and input arrays are 1-D, `where` is\n",
      "    equivalent to::\n",
      "    \n",
      "        [xv if c else yv for (c,xv,yv) in zip(condition,x,y)]\n",
      "    \n",
      "    Examples\n",
      "    --------\n",
      "    >>> np.where([[True, False], [True, True]],\n",
      "    ...          [[1, 2], [3, 4]],\n",
      "    ...          [[9, 8], [7, 6]])\n",
      "    array([[1, 8],\n",
      "           [3, 4]])\n",
      "    \n",
      "    >>> np.where([[0, 1], [1, 0]])\n",
      "    (array([0, 1]), array([1, 0]))\n",
      "    \n",
      "    >>> x = np.arange(9.).reshape(3, 3)\n",
      "    >>> np.where( x > 5 )\n",
      "    (array([2, 2, 2]), array([0, 1, 2]))\n",
      "    >>> x[np.where( x > 3.0 )]               # Note: result is 1D.\n",
      "    array([ 4.,  5.,  6.,  7.,  8.])\n",
      "    >>> np.where(x < 5, x, -1)               # Note: broadcasting.\n",
      "    array([[ 0.,  1.,  2.],\n",
      "           [ 3.,  4., -1.],\n",
      "           [-1., -1., -1.]])\n",
      "    \n",
      "    Find the indices of elements of `x` that are in `goodvalues`.\n",
      "    \n",
      "    >>> goodvalues = [3, 4, 7]\n",
      "    >>> ix = np.isin(x, goodvalues)\n",
      "    >>> ix\n",
      "    array([[False, False, False],\n",
      "           [ True,  True, False],\n",
      "           [False,  True, False]])\n",
      "    >>> np.where(ix)\n",
      "    (array([1, 1, 2]), array([0, 1, 1]))\n",
      "\n"
     ]
    }
   ],
   "source": [
    "help(np.where)"
   ]
  },
  {
   "cell_type": "code",
   "execution_count": 52,
   "metadata": {},
   "outputs": [
    {
     "data": {
      "text/plain": [
       "array(['One', 'Two', 'Two', 'One', 'Two', 'One', 'One', 'One', 'One',\n",
       "       'One', 'One', 'One', 'One', 'Two', 'One', 'Two', 'Two', 'Two',\n",
       "       'Two', 'Two', 'Two', 'One', 'One', 'Two', 'One', 'Two', 'Two',\n",
       "       'One', 'Two', 'Two', 'Two', 'Two', 'Two', 'Two', 'One', 'Two',\n",
       "       'Two', 'One', 'One', 'Two', 'One', 'One', 'One', 'One', 'One',\n",
       "       'Two', 'One', 'Two', 'One', 'Two', 'One', 'Two', 'One', 'One',\n",
       "       'One', 'One', 'Two', 'One', 'Two', 'Two', 'One', 'One', 'Two',\n",
       "       'One', 'Two', 'Two', 'One', 'Two', 'Two', 'Two', 'Two', 'Two',\n",
       "       'One', 'Two', 'Two', 'One', 'One', 'Two', 'One', 'Two', 'One',\n",
       "       'One', 'Two', 'One', 'One', 'One', 'One', 'Two', 'One', 'One',\n",
       "       'One', 'One', 'One', 'One', 'Two', 'One', 'Two', 'Two', 'One',\n",
       "       'Two', 'Two', 'One', 'One', 'Two', 'Two', 'One', 'Two', 'Two',\n",
       "       'Two', 'One', 'Two', 'Two', 'Two', 'One', 'Two', 'One', 'One',\n",
       "       'One', 'Two', 'One', 'One', 'One', 'One', 'Two', 'One', 'Two',\n",
       "       'One', 'Two', 'One', 'Two', 'Two', 'Two', 'One', 'Two', 'Two',\n",
       "       'Two', 'Two', 'One', 'Two', 'Two', 'Two', 'One', 'One', 'One',\n",
       "       'Two', 'One', 'Two', 'Two', 'One', 'Two', 'One', 'One', 'One',\n",
       "       'One', 'Two', 'One', 'One', 'One', 'One', 'Two', 'Two', 'Two',\n",
       "       'One', 'Two', 'One', 'Two', 'Two', 'Two', 'Two', 'Two', 'One',\n",
       "       'One', 'One', 'Two', 'One', 'One', 'One', 'Two', 'One', 'Two',\n",
       "       'One', 'One', 'One', 'Two', 'One', 'One', 'Two', 'One', 'Two',\n",
       "       'Two', 'One', 'One', 'One', 'Two', 'One', 'Two', 'One', 'Two',\n",
       "       'Two', 'Two', 'One'], dtype='<U3')"
      ]
     },
     "execution_count": 52,
     "metadata": {},
     "output_type": "execute_result"
    }
   ],
   "source": [
    "np.where(dset1 < 2, \"One\" , \"Two\")"
   ]
  },
  {
   "cell_type": "code",
   "execution_count": 53,
   "metadata": {},
   "outputs": [
    {
     "name": "stdout",
     "output_type": "stream",
     "text": [
      "Help on function apply_along_axis in module numpy.lib.shape_base:\n",
      "\n",
      "apply_along_axis(func1d, axis, arr, *args, **kwargs)\n",
      "    Apply a function to 1-D slices along the given axis.\n",
      "    \n",
      "    Execute `func1d(a, *args)` where `func1d` operates on 1-D arrays and `a`\n",
      "    is a 1-D slice of `arr` along `axis`.\n",
      "    \n",
      "    This is equivalent to (but faster than) the following use of `ndindex` and\n",
      "    `s_`, which sets each of ``ii``, ``jj``, and ``kk`` to a tuple of indices::\n",
      "    \n",
      "        Ni, Nk = a.shape[:axis], a.shape[axis+1:]\n",
      "        for ii in ndindex(Ni):\n",
      "            for kk in ndindex(Nk):\n",
      "                f = func1d(arr[ii + s_[:,] + kk])\n",
      "                Nj = f.shape\n",
      "                for jj in ndindex(Nj):\n",
      "                    out[ii + jj + kk] = f[jj]\n",
      "    \n",
      "    Equivalently, eliminating the inner loop, this can be expressed as::\n",
      "    \n",
      "        Ni, Nk = a.shape[:axis], a.shape[axis+1:]\n",
      "        for ii in ndindex(Ni):\n",
      "            for kk in ndindex(Nk):\n",
      "                out[ii + s_[...,] + kk] = func1d(arr[ii + s_[:,] + kk])\n",
      "    \n",
      "    Parameters\n",
      "    ----------\n",
      "    func1d : function (M,) -> (Nj...)\n",
      "        This function should accept 1-D arrays. It is applied to 1-D\n",
      "        slices of `arr` along the specified axis.\n",
      "    axis : integer\n",
      "        Axis along which `arr` is sliced.\n",
      "    arr : ndarray (Ni..., M, Nk...)\n",
      "        Input array.\n",
      "    args : any\n",
      "        Additional arguments to `func1d`.\n",
      "    kwargs : any\n",
      "        Additional named arguments to `func1d`.\n",
      "    \n",
      "        .. versionadded:: 1.9.0\n",
      "    \n",
      "    \n",
      "    Returns\n",
      "    -------\n",
      "    out : ndarray  (Ni..., Nj..., Nk...)\n",
      "        The output array. The shape of `out` is identical to the shape of\n",
      "        `arr`, except along the `axis` dimension. This axis is removed, and\n",
      "        replaced with new dimensions equal to the shape of the return value\n",
      "        of `func1d`. So if `func1d` returns a scalar `out` will have one\n",
      "        fewer dimensions than `arr`.\n",
      "    \n",
      "    See Also\n",
      "    --------\n",
      "    apply_over_axes : Apply a function repeatedly over multiple axes.\n",
      "    \n",
      "    Examples\n",
      "    --------\n",
      "    >>> def my_func(a):\n",
      "    ...     \"\"\"Average first and last element of a 1-D array\"\"\"\n",
      "    ...     return (a[0] + a[-1]) * 0.5\n",
      "    >>> b = np.array([[1,2,3], [4,5,6], [7,8,9]])\n",
      "    >>> np.apply_along_axis(my_func, 0, b)\n",
      "    array([ 4.,  5.,  6.])\n",
      "    >>> np.apply_along_axis(my_func, 1, b)\n",
      "    array([ 2.,  5.,  8.])\n",
      "    \n",
      "    For a function that returns a 1D array, the number of dimensions in\n",
      "    `outarr` is the same as `arr`.\n",
      "    \n",
      "    >>> b = np.array([[8,1,7], [4,3,9], [5,2,6]])\n",
      "    >>> np.apply_along_axis(sorted, 1, b)\n",
      "    array([[1, 7, 8],\n",
      "           [3, 4, 9],\n",
      "           [2, 5, 6]])\n",
      "    \n",
      "    For a function that returns a higher dimensional array, those dimensions\n",
      "    are inserted in place of the `axis` dimension.\n",
      "    \n",
      "    >>> b = np.array([[1,2,3], [4,5,6], [7,8,9]])\n",
      "    >>> np.apply_along_axis(np.diag, -1, b)\n",
      "    array([[[1, 0, 0],\n",
      "            [0, 2, 0],\n",
      "            [0, 0, 3]],\n",
      "           [[4, 0, 0],\n",
      "            [0, 5, 0],\n",
      "            [0, 0, 6]],\n",
      "           [[7, 0, 0],\n",
      "            [0, 8, 0],\n",
      "            [0, 0, 9]]])\n",
      "\n"
     ]
    }
   ],
   "source": [
    "help(np.apply_along_axis)"
   ]
  },
  {
   "cell_type": "code",
   "execution_count": 54,
   "metadata": {},
   "outputs": [],
   "source": [
    "def map_nums(val):\n",
    "    if val == 1: return \"ONE\"\n",
    "    elif val == 2: return \"TWO\"\n",
    "    elif val == 3: return \"THREE\"\n",
    "    else: return \"Other\""
   ]
  },
  {
   "cell_type": "code",
   "execution_count": 55,
   "metadata": {},
   "outputs": [],
   "source": [
    "dset2 = dataset[dataset < 5]"
   ]
  },
  {
   "cell_type": "code",
   "execution_count": 56,
   "metadata": {},
   "outputs": [
    {
     "data": {
      "text/plain": [
       "array([3, 3, 1, 3, 2, 4, 3, 2, 3, 3])"
      ]
     },
     "execution_count": 56,
     "metadata": {},
     "output_type": "execute_result"
    }
   ],
   "source": [
    "dset2[:10]"
   ]
  },
  {
   "cell_type": "code",
   "execution_count": 58,
   "metadata": {},
   "outputs": [],
   "source": [
    "mapp = np.vectorize(map_nums)"
   ]
  },
  {
   "cell_type": "code",
   "execution_count": 59,
   "metadata": {},
   "outputs": [
    {
     "data": {
      "text/plain": [
       "array(['THREE', 'THREE', 'ONE', 'THREE', 'TWO', 'Other', 'THREE', 'TWO',\n",
       "       'THREE', 'THREE', 'ONE', 'TWO', 'Other', 'Other', 'THREE', 'Other',\n",
       "       'ONE', 'ONE', 'ONE', 'ONE', 'ONE', 'Other', 'ONE', 'ONE', 'ONE',\n",
       "       'TWO', 'THREE', 'Other', 'Other', 'ONE', 'TWO', 'THREE', 'THREE',\n",
       "       'TWO', 'TWO', 'THREE', 'THREE', 'TWO', 'TWO', 'TWO', 'THREE',\n",
       "       'ONE', 'Other', 'Other', 'ONE', 'TWO', 'ONE', 'TWO', 'Other',\n",
       "       'Other', 'THREE', 'TWO', 'Other', 'Other', 'ONE', 'TWO', 'TWO',\n",
       "       'TWO', 'Other', 'TWO', 'Other', 'Other', 'TWO', 'TWO', 'Other',\n",
       "       'ONE', 'TWO', 'TWO', 'THREE', 'ONE', 'THREE', 'THREE', 'Other',\n",
       "       'THREE', 'Other', 'Other', 'ONE', 'THREE', 'Other', 'Other',\n",
       "       'THREE', 'THREE', 'THREE', 'THREE', 'Other', 'Other', 'TWO', 'ONE',\n",
       "       'ONE', 'THREE', 'Other', 'THREE', 'ONE', 'ONE', 'Other', 'ONE',\n",
       "       'Other', 'Other', 'TWO', 'THREE', 'ONE', 'TWO', 'ONE', 'Other',\n",
       "       'TWO', 'ONE', 'THREE', 'Other', 'TWO', 'Other', 'ONE', 'ONE',\n",
       "       'THREE', 'Other', 'ONE', 'ONE', 'TWO', 'ONE', 'TWO', 'TWO', 'ONE',\n",
       "       'Other', 'ONE', 'Other', 'TWO', 'ONE', 'TWO', 'TWO', 'ONE', 'TWO',\n",
       "       'TWO', 'THREE', 'TWO', 'TWO', 'THREE', 'THREE', 'TWO', 'THREE',\n",
       "       'THREE', 'ONE', 'THREE', 'TWO', 'TWO', 'THREE', 'THREE', 'ONE',\n",
       "       'ONE', 'THREE', 'TWO', 'THREE', 'Other', 'THREE', 'Other', 'ONE',\n",
       "       'Other', 'THREE', 'Other', 'THREE', 'TWO', 'ONE', 'THREE', 'ONE',\n",
       "       'TWO', 'ONE', 'ONE', 'ONE', 'ONE', 'TWO', 'ONE', 'THREE', 'ONE',\n",
       "       'THREE', 'THREE', 'Other', 'ONE', 'ONE', 'THREE', 'ONE', 'ONE',\n",
       "       'TWO', 'THREE', 'Other', 'THREE', 'ONE', 'TWO', 'TWO', 'ONE',\n",
       "       'Other', 'THREE', 'TWO', 'Other', 'TWO', 'ONE', 'ONE', 'THREE',\n",
       "       'TWO', 'TWO', 'ONE', 'TWO', 'THREE', 'TWO', 'THREE', 'Other',\n",
       "       'Other', 'THREE', 'Other', 'TWO', 'Other', 'THREE', 'ONE', 'TWO',\n",
       "       'TWO', 'Other', 'TWO', 'ONE', 'Other', 'Other', 'TWO', 'ONE',\n",
       "       'ONE', 'THREE', 'THREE', 'ONE', 'TWO', 'ONE', 'ONE', 'ONE', 'ONE',\n",
       "       'Other', 'Other', 'Other', 'Other', 'THREE', 'TWO', 'ONE', 'TWO',\n",
       "       'THREE', 'THREE', 'Other', 'ONE', 'TWO', 'ONE', 'THREE', 'Other',\n",
       "       'TWO', 'THREE', 'TWO', 'Other', 'Other', 'TWO', 'ONE', 'THREE',\n",
       "       'TWO', 'TWO', 'Other', 'Other', 'TWO', 'TWO', 'Other', 'THREE',\n",
       "       'Other', 'THREE', 'ONE', 'THREE', 'TWO', 'THREE', 'TWO', 'THREE',\n",
       "       'THREE', 'TWO', 'THREE', 'THREE', 'ONE', 'Other', 'THREE', 'ONE',\n",
       "       'ONE', 'Other', 'Other', 'TWO', 'THREE', 'THREE', 'THREE', 'ONE',\n",
       "       'TWO', 'THREE', 'THREE', 'Other', 'TWO', 'ONE', 'Other', 'TWO',\n",
       "       'ONE', 'ONE', 'THREE', 'Other', 'ONE', 'ONE', 'TWO', 'THREE',\n",
       "       'ONE', 'THREE', 'Other', 'ONE', 'ONE', 'THREE', 'Other', 'ONE',\n",
       "       'TWO', 'Other', 'THREE', 'TWO', 'THREE', 'Other', 'THREE', 'TWO',\n",
       "       'ONE', 'THREE', 'TWO', 'Other', 'ONE', 'Other', 'THREE', 'TWO',\n",
       "       'THREE', 'TWO', 'TWO', 'Other', 'Other', 'Other', 'THREE', 'Other',\n",
       "       'TWO', 'TWO', 'THREE', 'THREE', 'THREE', 'Other', 'THREE', 'ONE',\n",
       "       'Other', 'ONE', 'Other', 'THREE', 'ONE', 'TWO', 'ONE', 'Other',\n",
       "       'ONE', 'ONE', 'THREE', 'THREE', 'TWO', 'ONE', 'TWO', 'ONE', 'ONE',\n",
       "       'Other', 'ONE', 'Other', 'TWO', 'ONE', 'Other', 'Other', 'THREE',\n",
       "       'ONE', 'THREE', 'TWO', 'Other', 'THREE', 'THREE', 'ONE', 'Other',\n",
       "       'Other', 'THREE', 'Other', 'Other', 'TWO', 'TWO', 'Other', 'ONE',\n",
       "       'ONE', 'Other', 'ONE', 'TWO', 'ONE', 'TWO', 'ONE', 'THREE', 'TWO',\n",
       "       'TWO', 'THREE', 'Other', 'TWO', 'THREE', 'Other', 'ONE'],\n",
       "      dtype='<U5')"
      ]
     },
     "execution_count": 59,
     "metadata": {},
     "output_type": "execute_result"
    }
   ],
   "source": [
    "mapp(dset2)"
   ]
  },
  {
   "cell_type": "code",
   "execution_count": 61,
   "metadata": {},
   "outputs": [],
   "source": [
    "def m1(arg):\n",
    "    return arg"
   ]
  },
  {
   "cell_type": "code",
   "execution_count": 67,
   "metadata": {},
   "outputs": [],
   "source": [
    "def hello(func):\n",
    "    def wrapper(arg):\n",
    "        return \"Hello \" + func(arg)\n",
    "    return wrapper"
   ]
  },
  {
   "cell_type": "code",
   "execution_count": 69,
   "metadata": {},
   "outputs": [],
   "source": [
    "m2 = hello(m1)"
   ]
  },
  {
   "cell_type": "code",
   "execution_count": 70,
   "metadata": {},
   "outputs": [
    {
     "data": {
      "text/plain": [
       "<function __main__.hello.<locals>.wrapper(arg)>"
      ]
     },
     "execution_count": 70,
     "metadata": {},
     "output_type": "execute_result"
    }
   ],
   "source": [
    "m2"
   ]
  },
  {
   "cell_type": "code",
   "execution_count": 71,
   "metadata": {},
   "outputs": [
    {
     "data": {
      "text/plain": [
       "'world'"
      ]
     },
     "execution_count": 71,
     "metadata": {},
     "output_type": "execute_result"
    }
   ],
   "source": [
    "m1(\"world\")"
   ]
  },
  {
   "cell_type": "code",
   "execution_count": 72,
   "metadata": {},
   "outputs": [
    {
     "data": {
      "text/plain": [
       "'Hello world'"
      ]
     },
     "execution_count": 72,
     "metadata": {},
     "output_type": "execute_result"
    }
   ],
   "source": [
    "m2(\"world\")"
   ]
  },
  {
   "cell_type": "code",
   "execution_count": 75,
   "metadata": {},
   "outputs": [],
   "source": [
    "@hello\n",
    "def m3(arg):\n",
    "    return arg * 3"
   ]
  },
  {
   "cell_type": "code",
   "execution_count": null,
   "metadata": {},
   "outputs": [],
   "source": [
    "# "
   ]
  }
 ],
 "metadata": {
  "kernelspec": {
   "display_name": "Python 3",
   "language": "python",
   "name": "python3"
  },
  "language_info": {
   "codemirror_mode": {
    "name": "ipython",
    "version": 3
   },
   "file_extension": ".py",
   "mimetype": "text/x-python",
   "name": "python",
   "nbconvert_exporter": "python",
   "pygments_lexer": "ipython3",
   "version": "3.7.2"
  }
 },
 "nbformat": 4,
 "nbformat_minor": 2
}
